{
 "cells": [
  {
   "cell_type": "code",
   "execution_count": 1,
   "metadata": {},
   "outputs": [
    {
     "name": "stdout",
     "output_type": "stream",
     "text": [
      "Volume Of Cone :  2261.946710584651\n",
      "Surface Area Of Cone :  1432.5662500369456\n"
     ]
    }
   ],
   "source": [
    "import math \n",
    "pi = math.pi \n",
    "def volume(r, h): \n",
    "    return (1 / 3) * pi * r * r * h \n",
    "def surfacearea(r, s): \n",
    "    return pi * r * s + pi * r * r \n",
    "radius = float(12) \n",
    "height = float(15) \n",
    "surface_height = float(26) \n",
    "print( \"Volume Of Cone : \", volume(radius, height) ) \n",
    "print( \"Surface Area Of Cone : \", surfacearea(radius, surface_height) ) \n"
   ]
  },
  {
   "cell_type": "code",
   "execution_count": 4,
   "metadata": {},
   "outputs": [
    {
     "name": "stdout",
     "output_type": "stream",
     "text": [
      "Account ownername: SARALA\n",
      "Account balance: $5000\n",
      "Deposit Accepted, your balance is 10000\n",
      "Withdrawal Accepted, your balance is 3000\n",
      "Overdraw\n"
     ]
    }
   ],
   "source": [
    "class Account:\n",
    "    \n",
    "    def __init__(self, ownername, balance):\n",
    "        self.ownername = ownername\n",
    "        self.balance = balance\n",
    "    \n",
    "    def __str__(self):\n",
    "        return 'Account ownername: {ownername}\\nAccount balance: ${balance}'.format(ownername=self.ownername, balance=self.balance)\n",
    "        \n",
    "    def deposit(self, dp_money):\n",
    "        self.balance += dp_money\n",
    "        print('Deposit Accepted, your balance is {balance}'.format(balance=self.balance))\n",
    "    \n",
    "    def withdraw(self, wd_money):\n",
    "        if wd_money > self.balance:\n",
    "            print('Overdraw')\n",
    "        else:\n",
    "            self.balance -= wd_money\n",
    "            print('Withdrawal Accepted, your balance is {balance}'.format(balance=self.balance))\n",
    "            \n",
    "acct1 = Account('SARALA',5000)\n",
    "print(acct1)\n",
    "\n",
    "acct1.deposit(5000)\n",
    "acct1.withdraw(7000)\n",
    "acct1.withdraw(4000)"
   ]
  },
  {
   "cell_type": "code",
   "execution_count": null,
   "metadata": {},
   "outputs": [],
   "source": []
  }
 ],
 "metadata": {
  "kernelspec": {
   "display_name": "Python 3",
   "language": "python",
   "name": "python3"
  },
  "language_info": {
   "codemirror_mode": {
    "name": "ipython",
    "version": 3
   },
   "file_extension": ".py",
   "mimetype": "text/x-python",
   "name": "python",
   "nbconvert_exporter": "python",
   "pygments_lexer": "ipython3",
   "version": "3.7.6"
  }
 },
 "nbformat": 4,
 "nbformat_minor": 4
}
